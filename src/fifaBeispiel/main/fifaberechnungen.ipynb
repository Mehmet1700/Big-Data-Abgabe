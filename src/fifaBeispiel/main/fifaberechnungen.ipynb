{
 "cells": [
  {
   "cell_type": "code",
   "execution_count": 1,
   "id": "initial_id",
   "metadata": {
    "collapsed": true,
    "ExecuteTime": {
     "end_time": "2023-11-06T13:01:17.495840Z",
     "start_time": "2023-11-06T13:01:11.510596Z"
    }
   },
   "outputs": [
    {
     "name": "stderr",
     "output_type": "stream",
     "text": [
      "Setting default log level to \"WARN\".\n",
      "To adjust logging level use sc.setLogLevel(newLevel). For SparkR, use setLogLevel(newLevel).\n",
      "23/11/06 14:01:16 WARN NativeCodeLoader: Unable to load native-hadoop library for your platform... using builtin-java classes where applicable\n"
     ]
    }
   ],
   "source": [
    "# I took the rough structure of the file from the example in the lecture and adapted it to my needs\n",
    "from pyspark.sql import SparkSession\n",
    "\n",
    "# Create a SparkSession\n",
    "spark = SparkSession.builder \\\n",
    "    .appName(\"fifacalculations\") \\\n",
    "    .getOrCreate()"
   ]
  },
  {
   "cell_type": "code",
   "execution_count": 2,
   "outputs": [],
   "source": [
    "# Read input data from the fifa dataset (data/clean_fifa_worldcup_matches.csv)\n",
    "fifa_file = spark.read.csv(\"../../../data/clean_fifa_worldcup_matches.csv\", header=True, sep=\",\")"
   ],
   "metadata": {
    "collapsed": false,
    "ExecuteTime": {
     "end_time": "2023-11-06T13:01:20.114375Z",
     "start_time": "2023-11-06T13:01:17.502100Z"
    }
   },
   "id": "aecc9aa482add1ee"
  },
  {
   "cell_type": "code",
   "execution_count": 3,
   "outputs": [
    {
     "name": "stdout",
     "output_type": "stream",
     "text": [
      "+-------------+--------------+----+---------+---------+----------+\n",
      "|     HomeTeam|      AwayTeam|Year|HomeGoals|AwayGoals|TotalGoals|\n",
      "+-------------+--------------+----+---------+---------+----------+\n",
      "|       France|        Mexico|1930|        4|        1|         5|\n",
      "|      Uruguay|     Argentina|1930|        4|        2|         6|\n",
      "|      Uruguay|    Yugoslavia|1930|        6|        1|         7|\n",
      "|    Argentina| United States|1930|        6|        1|         7|\n",
      "|     Paraguay|       Belgium|1930|        1|        0|         1|\n",
      "|United States|      Paraguay|1930|        3|        0|         3|\n",
      "|      Uruguay|       Romania|1930|        4|        0|         4|\n",
      "|      Uruguay|          Peru|1930|        1|        0|         1|\n",
      "|      Romania|          Peru|1930|        3|        1|         4|\n",
      "|United States|       Belgium|1930|        3|        0|         3|\n",
      "|   Yugoslavia|       Bolivia|1930|        4|        0|         4|\n",
      "|   Yugoslavia|        Brazil|1930|        2|        1|         3|\n",
      "|    Argentina|         Chile|1930|        3|        1|         4|\n",
      "|    Argentina|        Mexico|1930|        6|        3|         9|\n",
      "|        Chile|        France|1930|        1|        0|         1|\n",
      "|        Chile|        Mexico|1930|        3|        0|         3|\n",
      "|    Argentina|        France|1930|        1|        0|         1|\n",
      "|       Brazil|       Bolivia|1930|        4|        0|         4|\n",
      "|      Germany|        Sweden|1934|        2|        1|         3|\n",
      "|        Italy|Czechoslovakia|1934|        2|        1|         3|\n",
      "+-------------+--------------+----+---------+---------+----------+\n",
      "(900, 6)\n"
     ]
    }
   ],
   "source": [
    "# Test if the data is read correctly\n",
    "fifa_file.show()\n",
    "#Show the shape of the data\n",
    "print((fifa_file.count(), len(fifa_file.columns)))"
   ],
   "metadata": {
    "collapsed": false,
    "ExecuteTime": {
     "end_time": "2023-11-06T13:01:20.780159Z",
     "start_time": "2023-11-06T13:01:20.117050Z"
    }
   },
   "id": "2468f1b411861d1"
  },
  {
   "cell_type": "code",
   "execution_count": 4,
   "outputs": [
    {
     "name": "stdout",
     "output_type": "stream",
     "text": [
      "+-------------+--------------+----+---------+---------+----------+\n",
      "|     HomeTeam|      AwayTeam|Year|HomeGoals|AwayGoals|TotalGoals|\n",
      "+-------------+--------------+----+---------+---------+----------+\n",
      "|       France|        Mexico|1930|        4|        1|         5|\n",
      "|      Uruguay|     Argentina|1930|        4|        2|         6|\n",
      "|      Uruguay|    Yugoslavia|1930|        6|        1|         7|\n",
      "|    Argentina| United States|1930|        6|        1|         7|\n",
      "|     Paraguay|       Belgium|1930|        1|        0|         1|\n",
      "|United States|      Paraguay|1930|        3|        0|         3|\n",
      "|      Uruguay|       Romania|1930|        4|        0|         4|\n",
      "|      Uruguay|          Peru|1930|        1|        0|         1|\n",
      "|      Romania|          Peru|1930|        3|        1|         4|\n",
      "|United States|       Belgium|1930|        3|        0|         3|\n",
      "|   Yugoslavia|       Bolivia|1930|        4|        0|         4|\n",
      "|   Yugoslavia|        Brazil|1930|        2|        1|         3|\n",
      "|    Argentina|         Chile|1930|        3|        1|         4|\n",
      "|    Argentina|        Mexico|1930|        6|        3|         9|\n",
      "|        Chile|        France|1930|        1|        0|         1|\n",
      "|        Chile|        Mexico|1930|        3|        0|         3|\n",
      "|    Argentina|        France|1930|        1|        0|         1|\n",
      "|       Brazil|       Bolivia|1930|        4|        0|         4|\n",
      "|      Germany|        Sweden|1934|        2|        1|         3|\n",
      "|        Italy|Czechoslovakia|1934|        2|        1|         3|\n",
      "+-------------+--------------+----+---------+---------+----------+\n",
      "only showing top 20 rows\n",
      "\n",
      "(486, 6)\n"
     ]
    }
   ],
   "source": [
    "# Filter the data for the home team. If the HomeTeam has exactly more goals than the AwayTeam, the HomeTeam has won\n",
    "#Then we can add the game to the home_wins dataframe\n",
    "home_wins = fifa_file.filter(fifa_file[\"HomeGoals\"] > fifa_file[\"AwayGoals\"])\n",
    "#Show the data to test if it is correct\n",
    "home_wins.show()\n",
    "#Show the amount of rows to test if it is correct\n",
    "print((home_wins.count(), len(home_wins.columns)))"
   ],
   "metadata": {
    "collapsed": false,
    "ExecuteTime": {
     "end_time": "2023-11-06T13:01:21.105504Z",
     "start_time": "2023-11-06T13:01:20.575035Z"
    }
   },
   "id": "aaa1d86965aff455"
  },
  {
   "cell_type": "code",
   "execution_count": 5,
   "outputs": [
    {
     "name": "stdout",
     "output_type": "stream",
     "text": [
      "+--------------+-----+\n",
      "|      HomeTeam|count|\n",
      "+--------------+-----+\n",
      "|      Paraguay|    4|\n",
      "|        Russia|    4|\n",
      "|        Sweden|   16|\n",
      "|        Turkey|    2|\n",
      "|       Germany|   23|\n",
      "|   Ivory Coast|    2|\n",
      "|        France|   22|\n",
      "|        Greece|    2|\n",
      "|       Algeria|    1|\n",
      "|      Slovakia|    1|\n",
      "|     Argentina|   39|\n",
      "|         Wales|    1|\n",
      "|       Belgium|   14|\n",
      "|       Ecuador|    2|\n",
      "|         Ghana|    1|\n",
      "|          Peru|    4|\n",
      "| United States|    6|\n",
      "|         Chile|    9|\n",
      "|  Soviet Union|   13|\n",
      "|Czechoslovakia|    9|\n",
      "+--------------+-----+\n",
      "only showing top 20 rows\n",
      "\n",
      "(57, 2)\n"
     ]
    }
   ],
   "source": [
    "# Now that we have all the winning home teams, we can group them by their name and count the wins\n",
    "home_wins = home_wins.groupBy(\"HomeTeam\").count()\n",
    "#show the data to test if it is correct\n",
    "home_wins.show()\n",
    "#show the amount of rows to test if it is correct\n",
    "print((home_wins.count(), len(home_wins.columns)))"
   ],
   "metadata": {
    "collapsed": false,
    "ExecuteTime": {
     "end_time": "2023-11-06T13:01:21.466991Z",
     "start_time": "2023-11-06T13:01:20.853903Z"
    }
   },
   "id": "284be7a684c655e2"
  },
  {
   "cell_type": "code",
   "execution_count": 6,
   "outputs": [
    {
     "name": "stdout",
     "output_type": "stream",
     "text": [
      "The team with the most home wins is: \n",
      "+--------------+-----+\n",
      "|      HomeTeam|count|\n",
      "+--------------+-----+\n",
      "|        Brazil|   54|\n",
      "|     Argentina|   39|\n",
      "|         Italy|   36|\n",
      "|  West Germany|   27|\n",
      "|       Germany|   23|\n",
      "|        France|   22|\n",
      "|       England|   21|\n",
      "|       Uruguay|   18|\n",
      "|         Spain|   16|\n",
      "|        Sweden|   16|\n",
      "|       Hungary|   15|\n",
      "|   Netherlands|   15|\n",
      "|       Belgium|   14|\n",
      "|  Soviet Union|   13|\n",
      "|      Portugal|   13|\n",
      "|    Yugoslavia|   12|\n",
      "|        Poland|   10|\n",
      "|       Austria|   10|\n",
      "|         Chile|    9|\n",
      "|Czechoslovakia|    9|\n",
      "+--------------+-----+\n",
      "only showing top 20 rows\n",
      "(57, 2)\n"
     ]
    }
   ],
   "source": [
    "#Now we have to sort the data in descending order, so that the team with the most wins is at the top\n",
    "home_wins = home_wins.sort(\"count\", ascending=False)\n",
    "\n",
    "#Print the first 3 entries of the dataframe\n",
    "print(\"The team with the most home wins is: \")\n",
    "home_wins.show()\n",
    "\n",
    "#show the amount of rows to test if it is correct\n",
    "print((home_wins.count(), len(home_wins.columns)))"
   ],
   "metadata": {
    "collapsed": false,
    "ExecuteTime": {
     "end_time": "2023-11-06T13:01:21.875430Z",
     "start_time": "2023-11-06T13:01:21.470744Z"
    }
   },
   "id": "f1991933ac70f357"
  },
  {
   "cell_type": "code",
   "execution_count": 7,
   "outputs": [],
   "source": [
    "#The dataset is from 2022, so we can filter the data for the last 10 years by filtering for the year > 2011\n",
    "mostsuccessful = fifa_file.filter(fifa_file[\"Year\"] > 2011)\n",
    "#Delete all the games which ended in a draw\n",
    "mostsuccessful = mostsuccessful.filter(mostsuccessful[\"HomeGoals\"] != mostsuccessful[\"AwayGoals\"])"
   ],
   "metadata": {
    "collapsed": false,
    "ExecuteTime": {
     "end_time": "2023-11-06T13:01:21.887256Z",
     "start_time": "2023-11-06T13:01:21.876324Z"
    }
   },
   "id": "bf22af46aa8d8eb0"
  },
  {
   "cell_type": "code",
   "execution_count": 8,
   "outputs": [
    {
     "name": "stdout",
     "output_type": "stream",
     "text": [
      "+----+\n",
      "|Year|\n",
      "+----+\n",
      "|2014|\n",
      "|2018|\n",
      "+----+\n"
     ]
    }
   ],
   "source": [
    "#show the earliest and latest data from the dataset\n",
    "mostsuccessful.select(\"Year\").distinct().show()"
   ],
   "metadata": {
    "collapsed": false,
    "ExecuteTime": {
     "end_time": "2023-11-06T13:01:22.069307Z",
     "start_time": "2023-11-06T13:01:21.890718Z"
    }
   },
   "id": "6d79d9e324caf90a"
  },
  {
   "cell_type": "code",
   "execution_count": 9,
   "outputs": [
    {
     "name": "stdout",
     "output_type": "stream",
     "text": [
      "+--------------------+--------------------+----+---------+---------+----------+--------------------+\n",
      "|            HomeTeam|            AwayTeam|Year|HomeGoals|AwayGoals|TotalGoals|              Winner|\n",
      "+--------------------+--------------------+----+---------+---------+----------+--------------------+\n",
      "|       United States|             Germany|2014|        0|        1|         1|             Germany|\n",
      "|             Belgium|              Russia|2014|        1|        0|         1|             Belgium|\n",
      "|             Belgium|             Algeria|2014|        2|        1|         3|             Belgium|\n",
      "|            Portugal|               Ghana|2014|        2|        1|         3|            Portugal|\n",
      "|           Argentina|         Switzerland|2014|        1|        0|         1|           Argentina|\n",
      "|               Ghana|       United States|2014|        1|        2|         3|       United States|\n",
      "|             Germany|            Portugal|2014|        4|        0|         4|             Germany|\n",
      "|Bosnia and Herzeg...|                Iran|2014|        3|        1|         4|Bosnia and Herzeg...|\n",
      "|             Nigeria|           Argentina|2014|        2|        3|         5|           Argentina|\n",
      "|             Nigeria|Bosnia and Herzeg...|2014|        1|        0|         1|             Nigeria|\n",
      "|             Germany|           Argentina|2014|        1|        0|         1|             Germany|\n",
      "|              Brazil|         Netherlands|2014|        0|        3|         3|         Netherlands|\n",
      "|             Germany|             Algeria|2014|        2|        1|         3|             Germany|\n",
      "|              Brazil|             Germany|2014|        1|        7|         8|             Germany|\n",
      "|           Argentina|             Belgium|2014|        1|        0|         1|           Argentina|\n",
      "|              Brazil|            Colombia|2014|        2|        1|         3|              Brazil|\n",
      "|              France|             Germany|2014|        0|        1|         1|             Germany|\n",
      "|             Belgium|       United States|2014|        2|        1|         3|             Belgium|\n",
      "|         South Korea|             Algeria|2014|        2|        4|         6|             Algeria|\n",
      "|           Argentina|                Iran|2014|        1|        0|         1|           Argentina|\n",
      "+--------------------+--------------------+----+---------+---------+----------+--------------------+\n",
      "(102, 7)\n"
     ]
    }
   ],
   "source": [
    "#Now we need a new columns to determine the winner of the game\n",
    "#We can use the when function to create a new column with the winner of the game\n",
    "from pyspark.sql.functions import when\n",
    "mostsuccessful = mostsuccessful.withColumn(\"Winner\", when(mostsuccessful[\"HomeGoals\"] > mostsuccessful[\"AwayGoals\"], mostsuccessful[\"HomeTeam\"]).otherwise(mostsuccessful[\"AwayTeam\"]))\n",
    "#show the data to test if it is correct\n",
    "mostsuccessful.show()\n",
    "#Show the amount of rows to test if it is correct\n",
    "print((mostsuccessful.count(), len(mostsuccessful.columns)))"
   ],
   "metadata": {
    "collapsed": false,
    "ExecuteTime": {
     "end_time": "2023-11-06T13:01:22.369737Z",
     "start_time": "2023-11-06T13:01:22.068182Z"
    }
   },
   "id": "564762ddacc6d5e2"
  },
  {
   "cell_type": "code",
   "execution_count": 10,
   "outputs": [
    {
     "name": "stdout",
     "output_type": "stream",
     "text": [
      "+-----------+-----+\n",
      "|     Winner|count|\n",
      "+-----------+-----+\n",
      "|    Belgium|   10|\n",
      "|     France|    9|\n",
      "|    Germany|    7|\n",
      "|  Argentina|    6|\n",
      "|    Uruguay|    6|\n",
      "|     Brazil|    6|\n",
      "|   Colombia|    6|\n",
      "|    Croatia|    5|\n",
      "|Netherlands|    5|\n",
      "|     Mexico|    4|\n",
      "|     Sweden|    3|\n",
      "|Switzerland|    3|\n",
      "|    England|    3|\n",
      "|     Russia|    2|\n",
      "|      Chile|    2|\n",
      "|    Nigeria|    2|\n",
      "|      Spain|    2|\n",
      "|   Portugal|    2|\n",
      "| Costa Rica|    2|\n",
      "|    Senegal|    1|\n",
      "+-----------+-----+\n"
     ]
    }
   ],
   "source": [
    "#Now we can group the data by the winner and count the wins\n",
    "mostsuccessful = mostsuccessful.groupBy(\"Winner\").count()\n",
    "\n",
    "#Sort the data in descending order\n",
    "mostsuccessful = mostsuccessful.sort(\"count\", ascending=False)\n",
    "\n",
    "#show the data to test if it is correct\n",
    "mostsuccessful.show()"
   ],
   "metadata": {
    "collapsed": false,
    "ExecuteTime": {
     "end_time": "2023-11-06T13:01:22.518162Z",
     "start_time": "2023-11-06T13:01:22.309368Z"
    }
   },
   "id": "ce69d3ef23154c5c"
  },
  {
   "cell_type": "code",
   "execution_count": 11,
   "outputs": [
    {
     "name": "stdout",
     "output_type": "stream",
     "text": [
      "+-------------+-----+\n",
      "|         Team|Goals|\n",
      "+-------------+-----+\n",
      "|       France|    4|\n",
      "|      Uruguay|    4|\n",
      "|      Uruguay|    6|\n",
      "|    Argentina|    6|\n",
      "|     Paraguay|    1|\n",
      "|United States|    3|\n",
      "|      Uruguay|    4|\n",
      "|      Uruguay|    1|\n",
      "|      Romania|    3|\n",
      "|United States|    3|\n",
      "|   Yugoslavia|    4|\n",
      "|   Yugoslavia|    2|\n",
      "|    Argentina|    3|\n",
      "|    Argentina|    6|\n",
      "|        Chile|    1|\n",
      "|        Chile|    3|\n",
      "|    Argentina|    1|\n",
      "|       Brazil|    4|\n",
      "|      Germany|    2|\n",
      "|        Italy|    2|\n",
      "+-------------+-----+\n",
      "only showing top 20 rows\n",
      "\n",
      "(900, 2)\n"
     ]
    }
   ],
   "source": [
    "\"\"\"\n",
    "The next task is to find out which team/nation has scored the most goals of all time\n",
    "\"\"\"\n",
    "\n",
    "#First we need to create a new dataframe with the teams and the goals they scored\n",
    "#We can do this by selecting the columns HomeTeam and HomeGoals and renaming them to Team and Goals\n",
    "mostgoals = fifa_file.select(\"HomeTeam\", \"HomeGoals\").withColumnRenamed(\"HomeTeam\", \"Team\").withColumnRenamed(\"HomeGoals\", \"Goals\")\n",
    "#show the data to test if it is correct\n",
    "mostgoals.show()\n",
    "#show the amount of rows to test if it is correct\n",
    "print((mostgoals.count(), len(mostgoals.columns)))"
   ],
   "metadata": {
    "collapsed": false,
    "ExecuteTime": {
     "end_time": "2023-11-06T13:01:22.689711Z",
     "start_time": "2023-11-06T13:01:22.521305Z"
    }
   },
   "id": "5b7b7a36f8b76f39"
  },
  {
   "cell_type": "code",
   "execution_count": 12,
   "outputs": [
    {
     "name": "stdout",
     "output_type": "stream",
     "text": [
      "+-------------+-----+\n",
      "|         Team|Goals|\n",
      "+-------------+-----+\n",
      "|       France|    4|\n",
      "|      Uruguay|    4|\n",
      "|      Uruguay|    6|\n",
      "|    Argentina|    6|\n",
      "|     Paraguay|    1|\n",
      "|United States|    3|\n",
      "|      Uruguay|    4|\n",
      "|      Uruguay|    1|\n",
      "|      Romania|    3|\n",
      "|United States|    3|\n",
      "|   Yugoslavia|    4|\n",
      "|   Yugoslavia|    2|\n",
      "|    Argentina|    3|\n",
      "|    Argentina|    6|\n",
      "|        Chile|    1|\n",
      "|        Chile|    3|\n",
      "|    Argentina|    1|\n",
      "|       Brazil|    4|\n",
      "|      Germany|    2|\n",
      "|        Italy|    2|\n",
      "+-------------+-----+\n",
      "only showing top 20 rows\n",
      "\n",
      "(1800, 2)\n"
     ]
    }
   ],
   "source": [
    "#Now we add the away teams and the goals they scored to the dataframe\n",
    "#We can do this by selecting the columns AwayTeam and AwayGoals and renaming them to Team and Goals\n",
    "mostgoals = mostgoals.union(fifa_file.select(\"AwayTeam\", \"AwayGoals\").withColumnRenamed(\"AwayTeam\", \"Team\").withColumnRenamed(\"AwayGoals\", \"Goals\"))\n",
    "#show the data to test if it is correct\n",
    "mostgoals.show()\n",
    "#show the amount of rows to test if it is correct\n",
    "print((mostgoals.count(), len(mostgoals.columns)))"
   ],
   "metadata": {
    "collapsed": false,
    "ExecuteTime": {
     "end_time": "2023-11-06T13:01:22.891434Z",
     "start_time": "2023-11-06T13:01:22.691676Z"
    }
   },
   "id": "b942270df51c93f"
  },
  {
   "cell_type": "code",
   "execution_count": 13,
   "outputs": [
    {
     "name": "stdout",
     "output_type": "stream",
     "text": [
      "+-----------+----------+\n",
      "|       Team|sum(Goals)|\n",
      "+-----------+----------+\n",
      "|   Paraguay|        30|\n",
      "|     Russia|        24|\n",
      "|    Senegal|        11|\n",
      "|     Sweden|        80|\n",
      "|     Turkey|        20|\n",
      "|      Zaire|         0|\n",
      "|       Iraq|         1|\n",
      "|    Germany|        95|\n",
      "|Ivory Coast|        13|\n",
      "|     France|       120|\n",
      "|     Greece|         5|\n",
      "|    Algeria|        13|\n",
      "|       Togo|         1|\n",
      "|   Slovakia|         5|\n",
      "|  Argentina|       137|\n",
      "|      Wales|         4|\n",
      "|    Belgium|        68|\n",
      "|     Angola|         1|\n",
      "|    Ecuador|        10|\n",
      "|      Ghana|        13|\n",
      "+-----------+----------+\n",
      "(85, 2)\n"
     ]
    }
   ],
   "source": [
    "#Convert the goals column to an integer\n",
    "from pyspark.sql.types import IntegerType\n",
    "mostgoals = mostgoals.withColumn(\"Goals\", mostgoals[\"Goals\"].cast(IntegerType()))\n",
    "#Now we can group the data by the team and sum the goals\n",
    "mostgoals = mostgoals.groupBy(\"Team\").sum(\"Goals\")\n",
    "#show the data to test if it is correct\n",
    "mostgoals.show()\n",
    "#show the amount of rows to test if it is correct\n",
    "print((mostgoals.count(), len(mostgoals.columns)))"
   ],
   "metadata": {
    "collapsed": false,
    "ExecuteTime": {
     "end_time": "2023-11-06T13:01:23.480993Z",
     "start_time": "2023-11-06T13:01:22.893526Z"
    }
   },
   "id": "148967004298e538"
  },
  {
   "cell_type": "code",
   "execution_count": 14,
   "outputs": [
    {
     "name": "stdout",
     "output_type": "stream",
     "text": [
      "+--------------+----------+\n",
      "|          Team|sum(Goals)|\n",
      "+--------------+----------+\n",
      "|        Brazil|       229|\n",
      "|     Argentina|       137|\n",
      "|  West Germany|       131|\n",
      "|         Italy|       128|\n",
      "|        France|       120|\n",
      "|         Spain|        99|\n",
      "|       Germany|        95|\n",
      "|       England|        91|\n",
      "|       Uruguay|        87|\n",
      "|       Hungary|        87|\n",
      "|   Netherlands|        86|\n",
      "|        Sweden|        80|\n",
      "|       Belgium|        68|\n",
      "|        Mexico|        60|\n",
      "|    Yugoslavia|        55|\n",
      "|  Soviet Union|        53|\n",
      "|   Switzerland|        50|\n",
      "|      Portugal|        49|\n",
      "|        Poland|        46|\n",
      "|Czechoslovakia|        44|\n",
      "+--------------+----------+\n",
      "only showing top 20 rows\n",
      "\n",
      "(85, 2)\n"
     ]
    }
   ],
   "source": [
    "#Sort the data in descending order\n",
    "mostgoals = mostgoals.sort(\"sum(Goals)\", ascending=False)\n",
    "#show the data to test if it is correct\n",
    "mostgoals.show()\n",
    "#show the amount of rows to test if it is correct\n",
    "print((mostgoals.count(), len(mostgoals.columns)))"
   ],
   "metadata": {
    "collapsed": false,
    "ExecuteTime": {
     "end_time": "2023-11-06T13:01:23.778978Z",
     "start_time": "2023-11-06T13:01:23.445304Z"
    }
   },
   "id": "535b6bd51e97006d"
  }
 ],
 "metadata": {
  "kernelspec": {
   "display_name": "Python 3",
   "language": "python",
   "name": "python3"
  },
  "language_info": {
   "codemirror_mode": {
    "name": "ipython",
    "version": 2
   },
   "file_extension": ".py",
   "mimetype": "text/x-python",
   "name": "python",
   "nbconvert_exporter": "python",
   "pygments_lexer": "ipython2",
   "version": "2.7.6"
  }
 },
 "nbformat": 4,
 "nbformat_minor": 5
}
